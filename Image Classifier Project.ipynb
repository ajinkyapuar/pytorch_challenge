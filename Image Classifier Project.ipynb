{
 "cells": [
  {
   "cell_type": "markdown",
   "metadata": {},
   "source": [
    "# Developing an AI application\n",
    "\n",
    "Going forward, AI algorithms will be incorporated into more and more everyday applications. For example, you might want to include an image classifier in a smart phone app. To do this, you'd use a deep learning model trained on hundreds of thousands of images as part of the overall application architecture. A large part of software development in the future will be using these types of models as common parts of applications. \n",
    "\n",
    "In this project, you'll train an image classifier to recognize different species of flowers. You can imagine using something like this in a phone app that tells you the name of the flower your camera is looking at. In practice you'd train this classifier, then export it for use in your application. We'll be using [this dataset](http://www.robots.ox.ac.uk/~vgg/data/flowers/102/index.html) of 102 flower categories, you can see a few examples below. \n",
    "\n",
    "<img src='assets/Flowers.png' width=500px>\n",
    "\n",
    "The project is broken down into multiple steps:\n",
    "\n",
    "* Load and preprocess the image dataset\n",
    "* Train the image classifier on your dataset\n",
    "* Use the trained classifier to predict image content\n",
    "\n",
    "We'll lead you through each part which you'll implement in Python.\n",
    "\n",
    "When you've completed this project, you'll have an application that can be trained on any set of labeled images. Here your network will be learning about flowers and end up as a command line application. But, what you do with your new skills depends on your imagination and effort in building a dataset. For example, imagine an app where you take a picture of a car, it tells you what the make and model is, then looks up information about it. Go build your own dataset and make something new.\n",
    "\n",
    "First up is importing the packages you'll need. It's good practice to keep all the imports at the beginning of your code. As you work through this notebook and find you need to import a package, make sure to add the import up here."
   ]
  },
  {
   "cell_type": "code",
   "execution_count": 1,
   "metadata": {},
   "outputs": [],
   "source": [
    "# Imports here\n",
    "import os\n",
    "import time\n",
    "import json\n",
    "import copy\n",
    "\n",
    "import PIL\n",
    "import numpy as np\n",
    "\n",
    "from collections import OrderedDict\n",
    "\n",
    "import torch\n",
    "from torch import nn, optim\n",
    "from torch.optim import lr_scheduler\n",
    "from torch.autograd import Variable\n",
    "from torchvision import datasets, models, transforms\n",
    "\n",
    "import matplotlib.pyplot as plt\n",
    "%matplotlib inline"
   ]
  },
  {
   "cell_type": "markdown",
   "metadata": {},
   "source": [
    "## Load the data\n",
    "\n",
    "Here you'll use `torchvision` to load the data ([documentation](http://pytorch.org/docs/0.3.0/torchvision/index.html)). You can [download the data here](https://s3.amazonaws.com/content.udacity-data.com/courses/nd188/flower_data.zip). The dataset is split into two parts, training and validation. For the training, you'll want to apply transformations such as random scaling, cropping, and flipping. This will help the network generalize leading to better performance. If you use a pre-trained network, you'll also need to make sure the input data is resized to 224x224 pixels as required by the networks.\n",
    "\n",
    "The validation set is used to measure the model's performance on data it hasn't seen yet. For this you don't want any scaling or rotation transformations, but you'll need to resize then crop the images to the appropriate size.\n",
    "\n",
    "The pre-trained networks available from `torchvision` were trained on the ImageNet dataset where each color channel was normalized separately. For both sets you'll need to normalize the means and standard deviations of the images to what the network expects. For the means, it's `[0.485, 0.456, 0.406]` and for the standard deviations `[0.229, 0.224, 0.225]`, calculated from the ImageNet images.  These values will shift each color channel to be centered at 0 and range from -1 to 1."
   ]
  },
  {
   "cell_type": "code",
   "execution_count": 2,
   "metadata": {},
   "outputs": [],
   "source": [
    "data_dir = './flower_data/'\n",
    "train_dir = data_dir + 'train/'\n",
    "valid_dir = data_dir + 'valid/'"
   ]
  },
  {
   "cell_type": "code",
   "execution_count": 3,
   "metadata": {},
   "outputs": [],
   "source": [
    "dirs = {'train': train_dir, \n",
    "        'valid': valid_dir\n",
    "        }"
   ]
  },
  {
   "cell_type": "code",
   "execution_count": 4,
   "metadata": {},
   "outputs": [],
   "source": [
    "# TODO: Define your transforms for the training and validation sets\n",
    "data_transforms = {\n",
    "    'train': transforms.Compose([\n",
    "        transforms.RandomRotation(45),\n",
    "        transforms.RandomResizedCrop(224),\n",
    "        transforms.RandomHorizontalFlip(),\n",
    "        transforms.ToTensor(),\n",
    "        transforms.Normalize([0.485, 0.456, 0.406], \n",
    "                             [0.229, 0.224, 0.225])\n",
    "    ]),\n",
    "    'valid': transforms.Compose([\n",
    "        transforms.Resize(256),\n",
    "        transforms.CenterCrop(224),\n",
    "        transforms.ToTensor(),\n",
    "        transforms.Normalize([0.485, 0.456, 0.406], \n",
    "                             [0.229, 0.224, 0.225])\n",
    "    ]),\n",
    "}\n",
    "\n",
    "# TODO: Load the datasets with ImageFolder\n",
    "image_datasets = {x: datasets.ImageFolder(dirs[x],   transform=data_transforms[x]) for x in ['train', 'valid']}\n",
    "\n",
    "# train_data = datasets.ImageFolder(train_dir, transform=data_transform)\n",
    "# valid_data = datasets.ImageFolder(valid_dir, transform=data_transform)\n",
    "# print out some data stats\n",
    "# print('Num training images: ', len(train_data))\n",
    "# print('Num validation images: ', len(valid_data))\n",
    "\n",
    "# TODO: Using the image datasets and the trainforms, define the dataloaders\n",
    "# define dataloader parameters\n",
    "# batch_size = 20\n",
    "# num_workers = 0\n",
    "\n",
    "# prepare data loaders\n",
    "# train_loader = torch.utils.data.DataLoader(train_data, batch_size=batch_size, num_workers=num_workers, shuffle=True)\n",
    "# valid_loader = torch.utils.data.DataLoader(valid_data, batch_size=batch_size, num_workers=num_workers, shuffle=True)\n",
    "dataloaders = {x: torch.utils.data.DataLoader(image_datasets[x], batch_size=32, shuffle=True) for x in ['train', 'valid']}\n",
    "\n",
    "dataset_sizes = {x: len(image_datasets[x]) for x in ['train', 'valid']}\n",
    "\n",
    "class_names = image_datasets['train'].classes\n"
   ]
  },
  {
   "cell_type": "code",
   "execution_count": 5,
   "metadata": {},
   "outputs": [
    {
     "name": "stdout",
     "output_type": "stream",
     "text": [
      "{'train': 6552, 'valid': 818}\n['1', '10', '100', '101', '102', '11', '12', '13', '14', '15', '16', '17', '18', '19', '2', '20', '21', '22', '23', '24', '25', '26', '27', '28', '29', '3', '30', '31', '32', '33', '34', '35', '36', '37', '38', '39', '4', '40', '41', '42', '43', '44', '45', '46', '47', '48', '49', '5', '50', '51', '52', '53', '54', '55', '56', '57', '58', '59', '6', '60', '61', '62', '63', '64', '65', '66', '67', '68', '69', '7', '70', '71', '72', '73', '74', '75', '76', '77', '78', '79', '8', '80', '81', '82', '83', '84', '85', '86', '87', '88', '89', '9', '90', '91', '92', '93', '94', '95', '96', '97', '98', '99']\n"
     ]
    }
   ],
   "source": [
    "print(dataset_sizes)\n",
    "print(class_names)"
   ]
  },
  {
   "cell_type": "markdown",
   "metadata": {},
   "source": [
    "### Label mapping\n",
    "\n",
    "You'll also need to load in a mapping from category label to category name. You can find this in the file `cat_to_name.json`. It's a JSON object which you can read in with the [`json` module](https://docs.python.org/2/library/json.html). This will give you a dictionary mapping the integer encoded categories to the actual names of the flowers."
   ]
  },
  {
   "cell_type": "code",
   "execution_count": 6,
   "metadata": {},
   "outputs": [],
   "source": [
    "import json\n",
    "\n",
    "with open('cat_to_name.json', 'r') as f:\n",
    "    cat_to_name = json.load(f)"
   ]
  },
  {
   "cell_type": "code",
   "execution_count": 7,
   "metadata": {},
   "outputs": [
    {
     "name": "stdout",
     "output_type": "stream",
     "text": [
      "102\n"
     ]
    }
   ],
   "source": [
    "print(len(cat_to_name))"
   ]
  },
  {
   "cell_type": "code",
   "execution_count": 24,
   "metadata": {},
   "outputs": [],
   "source": [
    "# # Visualize some sample data\n",
    "# \n",
    "# # obtain one batch of training images\n",
    "# dataiter = iter(train_loader)\n",
    "# images, labels = dataiter.next()\n",
    "# images = images.numpy()  # convert images to numpy for display\n",
    "# # print(str(labels.numpy()[0]))\n",
    "# # print(cat_to_name[str(labels.numpy()[0])])\n",
    "# \n",
    "# # plot the images in the batch, along with the corresponding labels\n",
    "# fig = plt.figure(figsize=(25, 4))\n",
    "# for idx in np.arange(20):\n",
    "#     ax = fig.add_subplot(2, 20/2, idx+1, xticks=[], yticks=[])\n",
    "#     plt.imshow(np.transpose(images[idx], (1, 2, 0)))\n",
    "#     ax.set_title(cat_to_name[str(labels.numpy()[idx])])"
   ]
  },
  {
   "cell_type": "markdown",
   "metadata": {},
   "source": [
    "# Building and training the classifier\n",
    "\n",
    "Now that the data is ready, it's time to build and train the classifier. As usual, you should use one of the pretrained models from `torchvision.models` to get the image features. Build and train a new feed-forward classifier using those features.\n",
    "\n",
    "We're going to leave this part up to you. If you want to talk through it with someone, chat with your fellow students! You can also ask questions on the forums or join the instructors in office hours.\n",
    "\n",
    "Refer to [the rubric](https://review.udacity.com/#!/rubrics/1663/view) for guidance on successfully completing this section. Things you'll need to do:\n",
    "\n",
    "* Load a [pre-trained network](http://pytorch.org/docs/master/torchvision/models.html) (If you need a starting point, the VGG networks work great and are straightforward to use)\n",
    "* Define a new, untrained feed-forward network as a classifier, using ReLU activations and dropout\n",
    "* Train the classifier layers using backpropagation using the pre-trained network to get the features\n",
    "* Track the loss and accuracy on the validation set to determine the best hyperparameters\n",
    "\n",
    "We've left a cell open for you below, but use as many as you need. Our advice is to break the problem up into smaller parts you can run separately. Check that each part is doing what you expect, then move on to the next. You'll likely find that as you work through each part, you'll need to go back and modify your previous code. This is totally normal!\n",
    "\n",
    "When training make sure you're updating only the weights of the feed-forward network. You should be able to get the validation accuracy above 70% if you build everything right. Make sure to try different hyperparameters (learning rate, units in the classifier, epochs, etc) to find the best model. Save those hyperparameters to use as default values in the next part of the project."
   ]
  },
  {
   "cell_type": "code",
   "execution_count": 18,
   "metadata": {},
   "outputs": [],
   "source": [
    "# TODO: Build and train your network"
   ]
  },
  {
   "cell_type": "code",
   "execution_count": 8,
   "metadata": {},
   "outputs": [
    {
     "name": "stdout",
     "output_type": "stream",
     "text": [
      "VGG(\n  (features): Sequential(\n    (0): Conv2d(3, 64, kernel_size=(3, 3), stride=(1, 1), padding=(1, 1))\n    (1): ReLU(inplace)\n    (2): Conv2d(64, 64, kernel_size=(3, 3), stride=(1, 1), padding=(1, 1))\n    (3): ReLU(inplace)\n    (4): MaxPool2d(kernel_size=2, stride=2, padding=0, dilation=1, ceil_mode=False)\n    (5): Conv2d(64, 128, kernel_size=(3, 3), stride=(1, 1), padding=(1, 1))\n    (6): ReLU(inplace)\n    (7): Conv2d(128, 128, kernel_size=(3, 3), stride=(1, 1), padding=(1, 1))\n    (8): ReLU(inplace)\n    (9): MaxPool2d(kernel_size=2, stride=2, padding=0, dilation=1, ceil_mode=False)\n    (10): Conv2d(128, 256, kernel_size=(3, 3), stride=(1, 1), padding=(1, 1))\n    (11): ReLU(inplace)\n    (12): Conv2d(256, 256, kernel_size=(3, 3), stride=(1, 1), padding=(1, 1))\n    (13): ReLU(inplace)\n    (14): Conv2d(256, 256, kernel_size=(3, 3), stride=(1, 1), padding=(1, 1))\n    (15): ReLU(inplace)\n    (16): Conv2d(256, 256, kernel_size=(3, 3), stride=(1, 1), padding=(1, 1))\n    (17): ReLU(inplace)\n    (18): MaxPool2d(kernel_size=2, stride=2, padding=0, dilation=1, ceil_mode=False)\n    (19): Conv2d(256, 512, kernel_size=(3, 3), stride=(1, 1), padding=(1, 1))\n    (20): ReLU(inplace)\n    (21): Conv2d(512, 512, kernel_size=(3, 3), stride=(1, 1), padding=(1, 1))\n    (22): ReLU(inplace)\n    (23): Conv2d(512, 512, kernel_size=(3, 3), stride=(1, 1), padding=(1, 1))\n    (24): ReLU(inplace)\n    (25): Conv2d(512, 512, kernel_size=(3, 3), stride=(1, 1), padding=(1, 1))\n    (26): ReLU(inplace)\n    (27): MaxPool2d(kernel_size=2, stride=2, padding=0, dilation=1, ceil_mode=False)\n    (28): Conv2d(512, 512, kernel_size=(3, 3), stride=(1, 1), padding=(1, 1))\n    (29): ReLU(inplace)\n    (30): Conv2d(512, 512, kernel_size=(3, 3), stride=(1, 1), padding=(1, 1))\n    (31): ReLU(inplace)\n    (32): Conv2d(512, 512, kernel_size=(3, 3), stride=(1, 1), padding=(1, 1))\n    (33): ReLU(inplace)\n    (34): Conv2d(512, 512, kernel_size=(3, 3), stride=(1, 1), padding=(1, 1))\n    (35): ReLU(inplace)\n    (36): MaxPool2d(kernel_size=2, stride=2, padding=0, dilation=1, ceil_mode=False)\n  )\n  (classifier): Sequential(\n    (0): Linear(in_features=25088, out_features=4096, bias=True)\n    (1): ReLU(inplace)\n    (2): Dropout(p=0.5)\n    (3): Linear(in_features=4096, out_features=4096, bias=True)\n    (4): ReLU(inplace)\n    (5): Dropout(p=0.5)\n    (6): Linear(in_features=4096, out_features=1000, bias=True)\n  )\n)\n"
     ]
    }
   ],
   "source": [
    "# Load the pretrained model from pytorch\n",
    "# inception = models.inception_v3(pretrained=True)\n",
    "model = models.vgg19(pretrained=True)\n",
    "\n",
    "# print out the model structure\n",
    "# print(inception)\n",
    "print(model)"
   ]
  },
  {
   "cell_type": "code",
   "execution_count": 10,
   "metadata": {},
   "outputs": [
    {
     "name": "stdout",
     "output_type": "stream",
     "text": [
      "4096\n1000\n"
     ]
    }
   ],
   "source": [
    "# print(inception.classifier[6].in_features) \n",
    "# print(inception.classifier[6].out_features)\n",
    "print(model.classifier[6].in_features)\n",
    "print(model.classifier[6].out_features)"
   ]
  },
  {
   "cell_type": "code",
   "execution_count": 11,
   "metadata": {},
   "outputs": [],
   "source": [
    "# Freeze training for all \"features\" layers\n",
    "for param in model.features.parameters():\n",
    "    param.requires_grad = False"
   ]
  },
  {
   "cell_type": "code",
   "execution_count": 12,
   "metadata": {},
   "outputs": [],
   "source": [
    "# n_inputs = vgg16.classifier[6].in_features\n",
    "# \n",
    "# # add last linear layer (n_inputs -> 5 flower classes)\n",
    "# # new layers automatically have requires_grad = True\n",
    "# last_layer = nn.Linear(n_inputs, len(cat_to_name))\n",
    "# \n",
    "# vgg16.classifier[6] = last_layer\n",
    "# \n",
    "# # # if GPU is available, move the model to GPU\n",
    "# # if train_on_gpu:\n",
    "# #     vgg16.cuda()\n",
    "# \n",
    "# # check to see that your last layer produces the expected number of outputs\n",
    "# print(vgg16.classifier[6].out_features)\n",
    "# print(vgg16)"
   ]
  },
  {
   "cell_type": "code",
   "execution_count": 13,
   "metadata": {},
   "outputs": [],
   "source": [
    "classifier = nn.Sequential(OrderedDict([\n",
    "                          ('fc1', nn.Linear(25088, 4096)),\n",
    "                          ('relu', nn.ReLU()),\n",
    "                          ('fc2', nn.Linear(4096, 102)),\n",
    "                          ('output', nn.LogSoftmax(dim=1))\n",
    "                          ]))"
   ]
  },
  {
   "cell_type": "code",
   "execution_count": 14,
   "metadata": {},
   "outputs": [],
   "source": [
    "model.classifier = classifier"
   ]
  },
  {
   "cell_type": "code",
   "execution_count": 15,
   "metadata": {},
   "outputs": [],
   "source": [
    "# # specify loss function (categorical cross-entropy)\n",
    "# criterion = nn.CrossEntropyLoss()\n",
    "# \n",
    "# # specify optimizer (stochastic gradient descent) and learning rate = 0.001\n",
    "# optimizer = optim.Adam(vgg16.classifier.parameters(), lr=0.001)"
   ]
  },
  {
   "cell_type": "code",
   "execution_count": 15,
   "metadata": {},
   "outputs": [],
   "source": [
    "# # number of epochs to train the model\n",
    "# n_epochs = 2\n",
    "# \n",
    "# for epoch in range(1, n_epochs+1):\n",
    "# \n",
    "#     # keep track of training and validation loss\n",
    "#     train_loss = 0.0\n",
    "#     \n",
    "#     ###################\n",
    "#     # train the model #\n",
    "#     ###################\n",
    "#     # model by default is set to train\n",
    "#     for batch_i, (data, target) in enumerate(train_loader):\n",
    "#         # move tensors to GPU if CUDA is available\n",
    "#         # if train_on_gpu:\n",
    "#         #     data, target = data.cuda(), target.cuda()\n",
    "#         # clear the gradients of all optimized variables\n",
    "#         optimizer.zero_grad()\n",
    "#         # forward pass: compute predicted outputs by passing inputs to the model\n",
    "#         output = vgg16(data)\n",
    "#         # calculate the batch loss\n",
    "#         loss = criterion(output, target)\n",
    "#         # backward pass: compute gradient of the loss with respect to model parameters\n",
    "#         loss.backward()\n",
    "#         # perform a single optimization step (parameter update)\n",
    "#         optimizer.step()\n",
    "#         # update training loss \n",
    "#         train_loss += loss.item()\n",
    "#         \n",
    "#         if batch_i % 20 == 19:    # print training loss every specified number of mini-batches\n",
    "#             print('Epoch %d, Batch %d loss: %.16f' %\n",
    "#                   (epoch, batch_i + 1, train_loss / 20))\n",
    "#             train_loss = 0.0"
   ]
  },
  {
   "cell_type": "code",
   "execution_count": null,
   "metadata": {},
   "outputs": [],
   "source": []
  },
  {
   "cell_type": "code",
   "execution_count": null,
   "metadata": {},
   "outputs": [],
   "source": []
  },
  {
   "cell_type": "markdown",
   "metadata": {},
   "source": [
    "## Save the checkpoint\n",
    "\n",
    "Now that your network is trained, save the model so you can load it later for making predictions. You probably want to save other things such as the mapping of classes to indices which you get from one of the image datasets: `image_datasets['train'].class_to_idx`. You can attach this to the model as an attribute which makes inference easier later on.\n",
    "\n",
    "```model.class_to_idx = image_datasets['train'].class_to_idx```\n",
    "\n",
    "Remember that you'll want to completely rebuild the model later so you can use it for inference. Make sure to include any information you need in the checkpoint. If you want to load the model and keep training, you'll want to save the number of epochs as well as the optimizer state, `optimizer.state_dict`. You'll likely want to use this trained model in the next part of the project, so best to save it now."
   ]
  },
  {
   "cell_type": "code",
   "execution_count": null,
   "metadata": {},
   "outputs": [],
   "source": [
    "# TODO: Save the checkpoint "
   ]
  },
  {
   "cell_type": "code",
   "execution_count": 17,
   "metadata": {},
   "outputs": [
    {
     "name": "stdout",
     "output_type": "stream",
     "text": [
      "features.0.weight \t torch.Size([64, 3, 3, 3])\nfeatures.0.bias \t torch.Size([64])\nfeatures.2.weight \t torch.Size([64, 64, 3, 3])\nfeatures.2.bias \t torch.Size([64])\nfeatures.5.weight \t torch.Size([128, 64, 3, 3])\nfeatures.5.bias \t torch.Size([128])\nfeatures.7.weight \t torch.Size([128, 128, 3, 3])\nfeatures.7.bias \t torch.Size([128])\nfeatures.10.weight \t torch.Size([256, 128, 3, 3])\nfeatures.10.bias \t torch.Size([256])\nfeatures.12.weight \t torch.Size([256, 256, 3, 3])\nfeatures.12.bias \t torch.Size([256])\nfeatures.14.weight \t torch.Size([256, 256, 3, 3])\nfeatures.14.bias \t torch.Size([256])\nfeatures.17.weight \t torch.Size([512, 256, 3, 3])\nfeatures.17.bias \t torch.Size([512])\nfeatures.19.weight \t torch.Size([512, 512, 3, 3])\nfeatures.19.bias \t torch.Size([512])\nfeatures.21.weight \t torch.Size([512, 512, 3, 3])\nfeatures.21.bias \t torch.Size([512])\nfeatures.24.weight \t torch.Size([512, 512, 3, 3])\nfeatures.24.bias \t torch.Size([512])\nfeatures.26.weight \t torch.Size([512, 512, 3, 3])\nfeatures.26.bias \t torch.Size([512])\nfeatures.28.weight \t torch.Size([512, 512, 3, 3])\nfeatures.28.bias \t torch.Size([512])\nclassifier.0.weight \t torch.Size([4096, 25088])\nclassifier.0.bias \t torch.Size([4096])\nclassifier.3.weight \t torch.Size([4096, 4096])\nclassifier.3.bias \t torch.Size([4096])\nclassifier.6.weight \t torch.Size([102, 4096])\nclassifier.6.bias \t torch.Size([102])\n"
     ]
    }
   ],
   "source": [
    "for param_tensor in vgg16.state_dict():\n",
    "    print(param_tensor, \"\\t\", vgg16.state_dict()[param_tensor].size())\n"
   ]
  },
  {
   "cell_type": "code",
   "execution_count": 18,
   "metadata": {},
   "outputs": [
    {
     "name": "stdout",
     "output_type": "stream",
     "text": [
      "state \t {4957839936: {'exp_avg_sq': tensor([[1.5039e-10, 1.2350e-12, 6.0398e-12,  ..., 0.0000e+00, 0.0000e+00,\n         1.2773e-11],\n        [5.5052e-11, 6.2268e-12, 2.4656e-12,  ..., 4.7166e-11, 2.7716e-11,\n         1.4224e-12],\n        [1.3871e-09, 1.8450e-09, 1.2242e-09,  ..., 7.7562e-09, 4.5854e-09,\n         3.6575e-10],\n        ...,\n        [1.5909e-10, 4.7592e-12, 0.0000e+00,  ..., 0.0000e+00, 0.0000e+00,\n         0.0000e+00],\n        [1.9792e-09, 3.3324e-11, 1.6510e-10,  ..., 1.2486e-09, 3.4873e-10,\n         1.8197e-11],\n        [4.3533e-10, 3.5809e-10, 3.5287e-10,  ..., 3.9115e-10, 2.3328e-10,\n         1.3584e-11]]), 'step': 656, 'exp_avg': tensor([[ 6.1350e-35,  5.7878e-36,  1.2799e-35,  ...,  0.0000e+00,\n          0.0000e+00,  1.6760e-35],\n        [ 3.7245e-35,  1.4917e-35,  8.1778e-36,  ..., -3.8584e-35,\n         -2.7418e-35, -6.2113e-36],\n        [ 7.3729e-14,  7.9684e-14,  5.1759e-14,  ..., -1.1935e-32,\n         -1.3947e-33, -2.9654e-32],\n        ...,\n        [ 5.9150e-35,  1.0231e-35,  0.0000e+00,  ...,  0.0000e+00,\n          0.0000e+00,  0.0000e+00],\n        [ 2.0863e-34,  2.7072e-35,  5.9980e-35,  ...,  1.8403e-34,\n          9.7257e-35,  1.8861e-35],\n        [ 4.2840e-31,  1.5487e-31, -1.1313e-33,  ...,  4.5172e-32,\n          6.9239e-35,  1.6865e-35]])}, 4957840008: {'exp_avg_sq': tensor([2.9601e-10, 6.4374e-10, 2.0269e-09,  ..., 2.8896e-10, 1.1621e-09,\n        1.1233e-09]), 'step': 656, 'exp_avg': tensor([1.1598e-34, 1.8737e-34, 4.0085e-14,  ..., 7.9717e-35, 2.3850e-34,\n        1.3294e-28])}, 4957886792: {'exp_avg_sq': tensor([0.0001, 0.0002, 0.0001, 0.0002, 0.0002, 0.0003, 0.0003, 0.0002, 0.0002,\n        0.0002, 0.0001, 0.0002, 0.0002, 0.0001, 0.0001, 0.0002, 0.0001, 0.0002,\n        0.0002, 0.0001, 0.0001, 0.0001, 0.0001, 0.0002, 0.0002, 0.0001, 0.0002,\n        0.0002, 0.0001, 0.0001, 0.0001, 0.0001, 0.0003, 0.0004, 0.0002, 0.0002,\n        0.0002, 0.0002, 0.0004, 0.0002, 0.0004, 0.0003, 0.0001, 0.0005, 0.0002,\n        0.0002, 0.0002, 0.0002, 0.0003, 0.0008, 0.0003, 0.0003, 0.0002, 0.0002,\n        0.0003, 0.0002, 0.0003, 0.0002, 0.0001, 0.0003, 0.0001, 0.0002, 0.0002,\n        0.0002, 0.0003, 0.0002, 0.0001, 0.0002, 0.0002, 0.0001, 0.0002, 0.0002,\n        0.0003, 0.0005, 0.0005, 0.0004, 0.0003, 0.0005, 0.0005, 0.0001, 0.0002,\n        0.0003, 0.0004, 0.0003, 0.0004, 0.0002, 0.0002, 0.0002, 0.0002, 0.0005,\n        0.0006, 0.0001, 0.0002, 0.0002, 0.0002, 0.0001, 0.0004, 0.0004, 0.0003,\n        0.0002, 0.0002, 0.0002]), 'step': 656, 'exp_avg': tensor([ 3.2159e-03, -4.1968e-03, -3.8154e-03,  7.0527e-03,  5.1582e-03,\n        -1.8263e-02,  4.3751e-03,  4.4083e-03, -1.9752e-03,  1.5289e-03,\n        -3.8324e-04,  4.9531e-03,  6.8106e-03, -3.5770e-03,  3.5027e-03,\n        -5.5630e-03,  2.9901e-03, -4.9348e-03,  9.8982e-03,  1.9500e-03,\n        -9.1847e-03, -9.7527e-03,  2.3236e-03, -7.9258e-03, -1.8455e-03,\n         4.8096e-04,  2.8252e-04, -3.0814e-03,  1.5428e-03, -5.7014e-03,\n        -2.6726e-03,  5.1178e-03, -3.3327e-03, -5.7411e-03,  1.0427e-03,\n        -1.3209e-02,  6.3166e-04, -9.2464e-05,  2.4032e-03,  4.4059e-03,\n        -7.4106e-03,  1.8796e-03,  1.2815e-03,  5.6413e-03, -1.8054e-03,\n         1.8417e-03, -1.1967e-02, -7.2071e-04,  3.5701e-03, -4.2876e-03,\n         5.7508e-03, -3.7498e-03,  3.6354e-04,  1.5088e-03,  1.7758e-03,\n         7.7336e-04,  3.9926e-03,  7.3738e-04,  2.2264e-03,  3.0364e-03,\n         1.6339e-03,  1.6250e-03,  1.9322e-03,  2.4836e-03,  6.6102e-03,\n         2.4438e-03,  1.7115e-03,  5.5962e-04, -1.4444e-03,  2.1173e-03,\n        -2.2171e-03,  3.9676e-03, -3.8865e-03, -2.6256e-03, -2.1177e-03,\n         6.8602e-03, -8.4757e-03,  4.2545e-03,  7.1642e-03,  4.8055e-03,\n         4.7861e-03,  3.6124e-03,  5.4630e-03,  5.7536e-03, -7.5261e-03,\n         7.0135e-04, -2.3981e-03, -2.9500e-03, -9.3289e-03,  2.3975e-03,\n         3.2385e-03, -6.6874e-03,  8.0113e-03,  6.1022e-03,  2.6101e-03,\n        -6.1741e-03, -3.5583e-04, -5.5860e-03,  1.3952e-04,  3.4164e-03,\n        -3.3156e-04, -5.5614e-03])}, 4957886648: {'exp_avg_sq': tensor([[1.2570e-04, 9.4989e-11, 7.1750e-06,  ..., 4.7598e-11, 9.6489e-07,\n         8.7887e-11],\n        [8.2772e-08, 3.5605e-07, 1.0678e-05,  ..., 3.9155e-09, 9.7567e-05,\n         2.4695e-12],\n        [1.2347e-04, 9.2300e-10, 1.3489e-07,  ..., 1.8805e-08, 2.0171e-07,\n         8.5414e-12],\n        ...,\n        [6.0744e-05, 5.9126e-07, 1.1830e-04,  ..., 1.9645e-10, 6.3940e-05,\n         1.0042e-06],\n        [1.5382e-04, 5.8076e-10, 7.7796e-06,  ..., 7.7858e-11, 4.5218e-04,\n         7.4463e-10],\n        [1.3578e-06, 1.8561e-09, 2.0873e-06,  ..., 1.0439e-10, 9.0025e-05,\n         2.8030e-10]]), 'step': 656, 'exp_avg': tensor([[-2.7213e-05,  4.7359e-06,  3.5250e-05,  ...,  1.5781e-14,\n          2.0508e-05,  1.0558e-20],\n        [ 1.0372e-05,  8.5641e-07,  2.5172e-05,  ...,  3.7798e-12,\n          7.9846e-07,  1.4490e-21],\n        [ 6.7358e-05,  1.8445e-06,  1.0927e-05,  ...,  1.2970e-14,\n          5.6773e-07,  7.2992e-21],\n        ...,\n        [-2.5397e-04,  3.4057e-05,  9.6906e-05,  ...,  5.6727e-11,\n          2.6441e-05, -2.5225e-18],\n        [-1.0397e-04,  5.5956e-06,  9.8538e-06,  ...,  1.0015e-11,\n         -5.0785e-04,  4.9502e-20],\n        [ 1.8305e-05,  2.7769e-06,  8.2218e-05,  ...,  3.6325e-12,\n          3.8559e-06,  3.9725e-20]])}, 4957840080: {'exp_avg_sq': tensor([[0.0000e+00, 0.0000e+00, 0.0000e+00,  ..., 0.0000e+00, 0.0000e+00,\n         0.0000e+00],\n        [1.8571e-09, 0.0000e+00, 1.4369e-09,  ..., 0.0000e+00, 0.0000e+00,\n         3.0153e-08],\n        [0.0000e+00, 0.0000e+00, 9.6772e-10,  ..., 0.0000e+00, 5.6527e-09,\n         1.5185e-09],\n        ...,\n        [0.0000e+00, 6.7533e-09, 1.5374e-09,  ..., 0.0000e+00, 1.1248e-12,\n         8.3551e-09],\n        [1.4358e-09, 1.3101e-10, 4.3425e-08,  ..., 1.2389e-11, 2.7635e-08,\n         5.0115e-08],\n        [0.0000e+00, 0.0000e+00, 0.0000e+00,  ..., 0.0000e+00, 0.0000e+00,\n         0.0000e+00]]), 'step': 656, 'exp_avg': tensor([[ 0.0000e+00,  0.0000e+00,  0.0000e+00,  ...,  0.0000e+00,\n          0.0000e+00,  0.0000e+00],\n        [ 2.0209e-34,  0.0000e+00,  1.7777e-34,  ...,  0.0000e+00,\n          0.0000e+00,  8.1434e-34],\n        [ 0.0000e+00,  0.0000e+00, -1.8516e-34,  ...,  0.0000e+00,\n         -3.5259e-34, -2.1118e-34],\n        ...,\n        [ 0.0000e+00,  4.7531e-34,  3.8410e-35,  ...,  0.0000e+00,\n         -4.9737e-36, -4.7932e-34],\n        [ 1.4049e-34, -3.2030e-35,  1.2656e-33,  ..., -1.6506e-35,\n          1.0781e-33,  1.0714e-33],\n        [ 0.0000e+00,  0.0000e+00,  0.0000e+00,  ...,  0.0000e+00,\n          0.0000e+00,  0.0000e+00]])}, 4957840152: {'exp_avg_sq': tensor([1.2759e-06, 4.0849e-08, 2.5433e-06,  ..., 3.6311e-09, 1.5757e-06,\n        3.4363e-09]), 'step': 656, 'exp_avg': tensor([ 7.8644e-05, -3.5641e-04,  5.7906e-04,  ...,  2.1467e-08,\n         2.5541e-04,  1.2032e-19])}}\nparam_groups \t [{'weight_decay': 0, 'betas': (0.9, 0.999), 'params': [4957839936, 4957840008, 4957840080, 4957840152, 4957886648, 4957886792], 'amsgrad': False, 'eps': 1e-08, 'lr': 0.001}]\n"
     ]
    }
   ],
   "source": [
    "for var_name in optimizer.state_dict():\n",
    "    print(var_name, \"\\t\", optimizer.state_dict()[var_name])"
   ]
  },
  {
   "cell_type": "code",
   "execution_count": 21,
   "metadata": {},
   "outputs": [],
   "source": [
    "torch.save(vgg16.state_dict(), \"./models/vgg16.pt\")"
   ]
  },
  {
   "cell_type": "code",
   "execution_count": null,
   "metadata": {},
   "outputs": [],
   "source": []
  },
  {
   "cell_type": "markdown",
   "metadata": {},
   "source": [
    "## Loading the checkpoint\n",
    "\n",
    "At this point it's good to write a function that can load a checkpoint and rebuild the model. That way you can come back to this project and keep working on it without having to retrain the network."
   ]
  },
  {
   "cell_type": "code",
   "execution_count": null,
   "metadata": {},
   "outputs": [],
   "source": [
    "# TODO: Write a function that loads a checkpoint and rebuilds the model"
   ]
  },
  {
   "cell_type": "markdown",
   "metadata": {},
   "source": [
    "# Inference for classification\n",
    "\n",
    "Now you'll write a function to use a trained network for inference. That is, you'll pass an image into the network and predict the class of the flower in the image. Write a function called `predict` that takes an image and a model, then returns the top $K$ most likely classes along with the probabilities. It should look like \n",
    "\n",
    "```python\n",
    "probs, classes = predict(image_path, model)\n",
    "print(probs)\n",
    "print(classes)\n",
    "> [ 0.01558163  0.01541934  0.01452626  0.01443549  0.01407339]\n",
    "> ['70', '3', '45', '62', '55']\n",
    "```\n",
    "\n",
    "First you'll need to handle processing the input image such that it can be used in your network. \n",
    "\n",
    "## Image Preprocessing\n",
    "\n",
    "You'll want to use `PIL` to load the image ([documentation](https://pillow.readthedocs.io/en/latest/reference/Image.html)). It's best to write a function that preprocesses the image so it can be used as input for the model. This function should process the images in the same manner used for training. \n",
    "\n",
    "First, resize the images where the shortest side is 256 pixels, keeping the aspect ratio. This can be done with the [`thumbnail`](http://pillow.readthedocs.io/en/3.1.x/reference/Image.html#PIL.Image.Image.thumbnail) or [`resize`](http://pillow.readthedocs.io/en/3.1.x/reference/Image.html#PIL.Image.Image.thumbnail) methods. Then you'll need to crop out the center 224x224 portion of the image.\n",
    "\n",
    "Color channels of images are typically encoded as integers 0-255, but the model expected floats 0-1. You'll need to convert the values. It's easiest with a Numpy array, which you can get from a PIL image like so `np_image = np.array(pil_image)`.\n",
    "\n",
    "As before, the network expects the images to be normalized in a specific way. For the means, it's `[0.485, 0.456, 0.406]` and for the standard deviations `[0.229, 0.224, 0.225]`. You'll want to subtract the means from each color channel, then divide by the standard deviation. \n",
    "\n",
    "And finally, PyTorch expects the color channel to be the first dimension but it's the third dimension in the PIL image and Numpy array. You can reorder dimensions using [`ndarray.transpose`](https://docs.scipy.org/doc/numpy-1.13.0/reference/generated/numpy.ndarray.transpose.html). The color channel needs to be first and retain the order of the other two dimensions."
   ]
  },
  {
   "cell_type": "code",
   "execution_count": null,
   "metadata": {},
   "outputs": [],
   "source": [
    "def process_image(image):\n",
    "    ''' Scales, crops, and normalizes a PIL image for a PyTorch model,\n",
    "        returns an Numpy array\n",
    "    '''\n",
    "    \n",
    "    # TODO: Process a PIL image for use in a PyTorch model"
   ]
  },
  {
   "cell_type": "markdown",
   "metadata": {},
   "source": [
    "To check your work, the function below converts a PyTorch tensor and displays it in the notebook. If your `process_image` function works, running the output through this function should return the original image (except for the cropped out portions)."
   ]
  },
  {
   "cell_type": "code",
   "execution_count": null,
   "metadata": {},
   "outputs": [],
   "source": [
    "def imshow(image, ax=None, title=None):\n",
    "    \"\"\"Imshow for Tensor.\"\"\"\n",
    "    if ax is None:\n",
    "        fig, ax = plt.subplots()\n",
    "    \n",
    "    # PyTorch tensors assume the color channel is the first dimension\n",
    "    # but matplotlib assumes is the third dimension\n",
    "    image = image.numpy().transpose((1, 2, 0))\n",
    "    \n",
    "    # Undo preprocessing\n",
    "    mean = np.array([0.485, 0.456, 0.406])\n",
    "    std = np.array([0.229, 0.224, 0.225])\n",
    "    image = std * image + mean\n",
    "    \n",
    "    # Image needs to be clipped between 0 and 1 or it looks like noise when displayed\n",
    "    image = np.clip(image, 0, 1)\n",
    "    \n",
    "    ax.imshow(image)\n",
    "    \n",
    "    return ax"
   ]
  },
  {
   "cell_type": "markdown",
   "metadata": {},
   "source": [
    "## Class Prediction\n",
    "\n",
    "Once you can get images in the correct format, it's time to write a function for making predictions with your model. A common practice is to predict the top 5 or so (usually called top-$K$) most probable classes. You'll want to calculate the class probabilities then find the $K$ largest values.\n",
    "\n",
    "To get the top $K$ largest values in a tensor use [`x.topk(k)`](http://pytorch.org/docs/master/torch.html#torch.topk). This method returns both the highest `k` probabilities and the indices of those probabilities corresponding to the classes. You need to convert from these indices to the actual class labels using `class_to_idx` which hopefully you added to the model or from an `ImageFolder` you used to load the data ([see here](#Save-the-checkpoint)). Make sure to invert the dictionary so you get a mapping from index to class as well.\n",
    "\n",
    "Again, this method should take a path to an image and a model checkpoint, then return the probabilities and classes.\n",
    "\n",
    "```python\n",
    "probs, classes = predict(image_path, model)\n",
    "print(probs)\n",
    "print(classes)\n",
    "> [ 0.01558163  0.01541934  0.01452626  0.01443549  0.01407339]\n",
    "> ['70', '3', '45', '62', '55']\n",
    "```"
   ]
  },
  {
   "cell_type": "code",
   "execution_count": null,
   "metadata": {},
   "outputs": [],
   "source": [
    "def predict(image_path, model, topk=5):\n",
    "    ''' Predict the class (or classes) of an image using a trained deep learning model.\n",
    "    '''\n",
    "    \n",
    "    # TODO: Implement the code to predict the class from an image file"
   ]
  },
  {
   "cell_type": "markdown",
   "metadata": {},
   "source": [
    "## Sanity Checking\n",
    "\n",
    "Now that you can use a trained model for predictions, check to make sure it makes sense. Even if the validation accuracy is high, it's always good to check that there aren't obvious bugs. Use `matplotlib` to plot the probabilities for the top 5 classes as a bar graph, along with the input image. It should look like this:\n",
    "\n",
    "<img src='assets/inference_example.png' width=300px>\n",
    "\n",
    "You can convert from the class integer encoding to actual flower names with the `cat_to_name.json` file (should have been loaded earlier in the notebook). To show a PyTorch tensor as an image, use the `imshow` function defined above."
   ]
  },
  {
   "cell_type": "code",
   "execution_count": null,
   "metadata": {},
   "outputs": [],
   "source": [
    "# TODO: Display an image along with the top 5 classes"
   ]
  }
 ],
 "metadata": {
  "kernelspec": {
   "display_name": "Python 3",
   "language": "python",
   "name": "python3"
  },
  "language_info": {
   "codemirror_mode": {
    "name": "ipython",
    "version": 3
   },
   "file_extension": ".py",
   "mimetype": "text/x-python",
   "name": "python",
   "nbconvert_exporter": "python",
   "pygments_lexer": "ipython3",
   "version": "3.6.6"
  }
 },
 "nbformat": 4,
 "nbformat_minor": 2
}
